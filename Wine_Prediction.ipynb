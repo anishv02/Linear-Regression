{
  "nbformat": 4,
  "nbformat_minor": 0,
  "metadata": {
    "colab": {
      "name": "Wine Prediction",
      "private_outputs": true,
      "provenance": [],
      "collapsed_sections": []
    },
    "kernelspec": {
      "name": "python3",
      "display_name": "Python 3"
    },
    "language_info": {
      "name": "python"
    }
  },
  "cells": [
    {
      "cell_type": "markdown",
      "metadata": {
        "id": "XhwqUgtNYdvh"
      },
      "source": [
        "**WINE PREDICTION THROUGH LINEAR REGRESSION**"
      ]
    },
    {
      "cell_type": "code",
      "metadata": {
        "id": "d5y_gE0iAfzf"
      },
      "source": [
        "#Importing all the libraries\n",
        "import pandas as pd\n",
        "import matplotlib.pyplot as plt\n",
        "import seaborn as sns\n",
        "print('Setup Complete')"
      ],
      "execution_count": null,
      "outputs": []
    },
    {
      "cell_type": "code",
      "metadata": {
        "id": "RwVkDSKQBbvf"
      },
      "source": [
        "#reading the data set\n",
        "data = pd.read_csv('./winequalityN.csv')"
      ],
      "execution_count": null,
      "outputs": []
    },
    {
      "cell_type": "code",
      "metadata": {
        "id": "inebozJWBl0C"
      },
      "source": [
        "data.head()"
      ],
      "execution_count": null,
      "outputs": []
    },
    {
      "cell_type": "code",
      "metadata": {
        "id": "6bEKIEOgGv7e"
      },
      "source": [
        "data.tail()"
      ],
      "execution_count": null,
      "outputs": []
    },
    {
      "cell_type": "code",
      "metadata": {
        "id": "VAN0Jg3uHH2W"
      },
      "source": [
        "data.isnull().sum()"
      ],
      "execution_count": null,
      "outputs": []
    },
    {
      "cell_type": "markdown",
      "metadata": {
        "id": "WDz8lLS-fGpn"
      },
      "source": [
        "As this suggest there are so many NaN values, so we will be using the fillna() function to fill up these values"
      ]
    },
    {
      "cell_type": "markdown",
      "metadata": {
        "id": "LiokOqQmfdrV"
      },
      "source": [
        "By adding the median in place of the null values we have zero NaN values now and ready to train our model."
      ]
    },
    {
      "cell_type": "code",
      "metadata": {
        "id": "UVlBs19IHe4d"
      },
      "source": [
        "x = data['sulphates'].median()\n",
        "y = data['pH'].median()\n",
        "z = data['citric acid'].median()\n",
        "a = data['fixed acidity'].median()\n",
        "b = data['residual sugar'].median()\n",
        "c = data['chlorides'].median()\n",
        "d = data['volatile acidity'].median()"
      ],
      "execution_count": null,
      "outputs": []
    },
    {
      "cell_type": "code",
      "metadata": {
        "id": "6b4ksO_yLEGx"
      },
      "source": [
        "#The fillna function\n",
        "data['sulphates'].fillna(value=x, inplace=True)\n",
        "data['pH'].fillna(value=y, inplace=True)\n",
        "data['citric acid'].fillna(value=z, inplace=True)\n",
        "data['fixed acidity'].fillna(value=a, inplace=True)\n",
        "data['residual sugar'].fillna(value=b, inplace=True)\n",
        "data['chlorides'].fillna(value=c, inplace=True)\n",
        "data['volatile acidity'].fillna(value=d, inplace=True)"
      ],
      "execution_count": null,
      "outputs": []
    },
    {
      "cell_type": "code",
      "metadata": {
        "id": "XF3Tvj3YLZiB"
      },
      "source": [
        "data.isnull().sum()"
      ],
      "execution_count": null,
      "outputs": []
    },
    {
      "cell_type": "code",
      "metadata": {
        "id": "WgZR-JNtLmJw"
      },
      "source": [
        "data.describe().sum()"
      ],
      "execution_count": null,
      "outputs": []
    },
    {
      "cell_type": "markdown",
      "metadata": {
        "id": "_kxB9hCogX_K"
      },
      "source": [
        "Declaring the independent variables"
      ]
    },
    {
      "cell_type": "code",
      "metadata": {
        "id": "6-9f2Kh41u1Q"
      },
      "source": [
        "x = ['pH','citric acid','density','alcohol']\n",
        "X = data[x]\n",
        "X"
      ],
      "execution_count": null,
      "outputs": []
    },
    {
      "cell_type": "markdown",
      "metadata": {
        "id": "nhN_iot-gccU"
      },
      "source": [
        "Declearing the dependent variable"
      ]
    },
    {
      "cell_type": "code",
      "metadata": {
        "id": "l1IlJP82B5MP"
      },
      "source": [
        "y = data['quality']\n",
        "y"
      ],
      "execution_count": null,
      "outputs": []
    },
    {
      "cell_type": "code",
      "metadata": {
        "id": "K29TSvCLEAaj"
      },
      "source": [
        "from sklearn.model_selection import train_test_split\n",
        "X_train,X_test,y_train,y_test =train_test_split(X,y,test_size=.2,random_state=10)"
      ],
      "execution_count": null,
      "outputs": []
    },
    {
      "cell_type": "code",
      "metadata": {
        "id": "i3sIt4ToEos6"
      },
      "source": [
        "from sklearn.linear_model import LinearRegression\n",
        "model = LinearRegression()\n",
        "model.fit(X_train,y_train)"
      ],
      "execution_count": null,
      "outputs": []
    },
    {
      "cell_type": "code",
      "metadata": {
        "id": "4TiaUePSWT2Q"
      },
      "source": [
        "model.coef_"
      ],
      "execution_count": null,
      "outputs": []
    },
    {
      "cell_type": "code",
      "metadata": {
        "id": "PZKcCycfWX16"
      },
      "source": [
        "model.intercept_"
      ],
      "execution_count": null,
      "outputs": []
    },
    {
      "cell_type": "code",
      "metadata": {
        "id": "u3jVvebPGQLW"
      },
      "source": [
        "x_pred = model.predict(X_test)\n",
        "x_pred"
      ],
      "execution_count": null,
      "outputs": []
    },
    {
      "cell_type": "code",
      "metadata": {
        "id": "k88PYtZtGyXo"
      },
      "source": [
        "print('Train score is: ',model.score(X_train,y_train))"
      ],
      "execution_count": null,
      "outputs": []
    },
    {
      "cell_type": "code",
      "metadata": {
        "id": "8lAen10DG60P"
      },
      "source": [
        "print('Test score is: ',model.score(X_test,y_test))"
      ],
      "execution_count": null,
      "outputs": []
    }
  ]
}